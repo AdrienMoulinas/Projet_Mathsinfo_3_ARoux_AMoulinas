{
 "cells": [
  {
   "cell_type": "markdown",
   "metadata": {},
   "source": [
    "# Enoncé du problème\n",
    "\n",
    "L'objectif de ce projet est d'estimer la longueur de câble sous-marin nécessaire pour relier deux côtes $A$ et $B$  en utilisant des simulations conditionnelles.\n",
    "\n",
    "\n",
    "Le câble reposera sur le fond marin dont la profondeur est inconnue.\n",
    "Le segment $[AB]$ est discrétisé par une séquence de (N+1) points. On pose $x_0=A$ et pour $i=1,\\dots,N$, $$x_i=x_0+i\\Delta$$ où $$\\Delta = \\frac{AB}{N}$$ de telle sorte que $x_N=B$.\n",
    "On note $z(x)$ la profondeur du fond marin au point $x$ de telle sorte \n",
    "qu'on pourra estimer la longueur totale de câble nécessaire par la somme \n",
    "des longueurs sur les segments de la discrétisation :\n",
    "\n",
    "$$l=\\sum_{i=1}^N\\sqrt{\\Delta^2+(z(x_i)-z(x_{i-1}))^2}.$$\n",
    "\n",
    "Enfin, notons que l'on dispose d'un ensemble de $n$ observations de la \n",
    "profondeur que l'on supposera situées sur des points de discrétisation $z(x_{j_1}),\\dots,z(x_{j_n})$.\n",
    "\n",
    "\n",
    "On adopte un modèle probabiliste pour la profondeur. On suppose que le vecteur des \n",
    "profondeurs sur les points de discrétisation \n",
    "$\\mathbf{z}=(z(x_0),\\dots,z(x_N))$ est la réalisation\n",
    "d'un vecteur aléatoire gaussien $\\mathbf{Z}=(Z(x_0),\\dots,Z(x_N))$ \n",
    "dont le vecteur d'espérance ne contient qu'une seule valeur $\\mu$ \n",
    "répétée $N+1$ fois et dont la matrice de covariance $\\Sigma$ a pour termes $\\sigma_{ij}$\n",
    "définis par $\\sigma_{ij}=C(|x_i-x_j|)$ où $C$ est une\n",
    "fonction décroissante, traduisant le fait que deux points \n",
    "géographiquement proches ont tendance à avoir des profondeurs plus similaires que deux points éloignés.\n",
    "\n",
    "On supposera que la matrice de covariance ainsi \n",
    "générée est définie-positive (en fait, $C$ sera choisie parmi les fonctions qui, \n",
    "appliquées aux termes d'une matrice de distance, produisent des matrices définie-positives). \n",
    "\n",
    "Si on note $L$ la variable aléatoire donnant la longueur de cable nécessaire : \n",
    "$$L=\\sum_{i=1}^N\\sqrt{\\Delta^2+(Z(x_i)-Z(x_{i-1}))^2},$$\n",
    "un bon estimateur de $L$ est fourni par l'espérance conditionnelle \n",
    "\n",
    "$$L^\\star=E[L|Z(x_{j_1})=z(x_{j_1}),\\dots,Z(x_{j_n})=z(x_{j_n})].$$\n",
    "                                                                              \n",
    "Cependant, cette quantité est difficilement accessible par le calcul. \n",
    "On va donc avoir recours à des\n",
    "simulations conditionnelles. C'est-à-dire que l'on va simuler \n",
    "un nombre $K$ de réalités (disons des réalisations du modèle \n",
    "probabiliste choisi), et sur chacune d'entre elle, \n",
    "la quantité de câble nécessaire sera évaluée. \n",
    "On disposera ainsi d'un échantillon $l_{(1)},\\dots,l_{(K)}$ de \n",
    "longueures simulées. Puis on approchera l'espérance conditionnelle  par \n",
    "$$L^\\star= \\frac{1}{K}\\sum_{k=1}^K l_{(k)}.$$\n",
    "\n",
    "L'objectif de ce projet est donc d'écrire un code permettant \n",
    "d'effectuer cette simulation conditionnelle, puis de l'appliquer \n",
    "au jeu de données fourni et d'en déduire une estimation de la longueur de câble nécessaire."
   ]
  },
  {
   "cell_type": "markdown",
   "metadata": {},
   "source": [
    "# Questions théoriques\n",
    "\n",
    "1. Quel théorème du cours nous autorise-t-il à estimer l'espérance conditionnelle par la moyenne empirique de simulations conditionnelles ?\n",
    "\n",
    "2. Rappeler la loi conditionnelle du vecteur des composantes de $\\mathbf{Z}$ correspondant aux points de discrétisation\n",
    "sans observation, connaissant les valeurs prises par les composantes aux sites d'observation.\n",
    "\n",
    "3. Si $\\mathbf{Y}=(Y_1,\\dots,Y_p)$ est un vecteur de composantes gaussiennes indépendantes, toutes d'espérance nulle et de variance 1, \n",
    "quelle est la loi du vecteur $\\mathbf{Z}=m+R\\mathbf{Y}$ où $R$ est une matrice $p\\times p$ et $m$ est un vecteur de taille $p$ ?\n",
    "\n",
    "4. En déduire un algorithme de simulation conditionnelle."
   ]
  },
  {
   "cell_type": "markdown",
   "metadata": {},
   "source": [
    "# Données du problème\n",
    "Conventionnellement, $A$ est l'origine, $B=500$, $N=100$.\n",
    "\n",
    "Les données $$\\begin{array}{c|r}i & z(x_i)\\\\\n",
    "\\hline\n",
    "0 & 0\\\\\n",
    "20 & -4\\\\\n",
    "40 & -12.8\\\\\n",
    "60 & -1\\\\\n",
    "80 & -6.5\\\\\n",
    "100 & 0\\end{array}$$\n",
    "\n",
    "L'espérance de chaque composante du vecteur aléatoire $\\mathbf{Z}$ est donnée par $\\mu=-5.$\n",
    "\n",
    "La fonction $C$ est définie par $$C(h)=\\sigma^2 e^{-|h|/a},$$\n",
    "\n",
    "où $|h|$ correspond à la distance entre deux points, $a=50$ et $\\sigma^2=12$.\n"
   ]
  },
  {
   "cell_type": "markdown",
   "metadata": {},
   "source": [
    "# Implémentation"
   ]
  },
  {
   "cell_type": "markdown",
   "metadata": {},
   "source": [
    "## Préambule"
   ]
  },
  {
   "cell_type": "code",
   "execution_count": null,
   "metadata": {},
   "outputs": [],
   "source": [
    "#Chargement de dépendances\n",
    "\n",
    "import numpy as np\n",
    "import matplotlib.pyplot as plt\n",
    "\n",
    "#Discrétisation\n",
    "A=0\n",
    "B=500\n",
    "N=101 #Nombre de points de discrétisation\n",
    "Delta = (B-A)/(N-1)\n",
    "discretization_indexes = np.arange(N)\n",
    "discretization = discretization_indexes*Delta\n",
    "#Paramètres du modèle\n",
    "\n",
    "mu=-5\n",
    "a = 50\n",
    "sigma2 = 12\n",
    "\n",
    "#Données\n",
    "\n",
    "observation_indexes = [0,20,40,60,80,100]\n",
    "depth = np.array([0,-4,-12.8,-1,-6.5,0])\n",
    "\n",
    "#Indices des composantes correspondant aux observations et aux componsantes non observées\n",
    "\n",
    "unknown_indexes=list(set(discretization_indexes)-set(observation_indexes))\n"
   ]
  },
  {
   "cell_type": "markdown",
   "metadata": {},
   "source": [
    "## Questions\n",
    "\n",
    "1. Ecrire une fonction qui prend en argument la distance entre les points, le paramètre $a$, et le paramètre $\\sigma^2$, et qui retourne la covariance entre deux points.\n",
    "On pourra fournir une matrice de distance à cette fonction. Dans ce cas, la fonction renverra la matrice de covariance."
   ]
  },
  {
   "cell_type": "code",
   "execution_count": null,
   "metadata": {},
   "outputs": [],
   "source": [
    "def covariance(d,a,sigma_carré):\n",
    "    return sigma_carré*np.exp(-abs(d)/a)"
   ]
  },
  {
   "cell_type": "markdown",
   "metadata": {},
   "source": [
    "2. Calculer la matrice de distance."
   ]
  },
  {
   "cell_type": "code",
   "execution_count": null,
   "metadata": {},
   "outputs": [],
   "source": [
    "distance = np.zeros((N,N))    \n",
    "for i in range(N):\n",
    "    for j in range(N):\n",
    "        distance[i][j] = Delta*abs(i-j)"
   ]
  },
  {
   "cell_type": "markdown",
   "metadata": {},
   "source": [
    "3. Calculer la matrice de covariance du vecteur $\\mathbf{Z}=(Z(x_0),\\dots,Z(x_N))$."
   ]
  },
  {
   "cell_type": "code",
   "execution_count": null,
   "metadata": {},
   "outputs": [],
   "source": [
    "cov = covariance(distance,a,sigma2)"
   ]
  },
  {
   "cell_type": "markdown",
   "metadata": {},
   "source": [
    "4. Extraire les 3 matrices de covariance suivantes :\n",
    "\n",
    " * entre les observations\n",
    "\n",
    " * entre les observations et les inconnues\n",
    "\n",
    " * entre les inconnues\n"
   ]
  },
  {
   "cell_type": "code",
   "execution_count": null,
   "metadata": {},
   "outputs": [],
   "source": [
    "cache_observable = np.array([i in observation_indexes for i in range(N)])\n",
    "cache_inconnues = np.array([i in unknown_indexes for i in range(N)])\n",
    "\n",
    "covariance_observables = cov[cache_observable,:][:,cache_observable]\n",
    "covariance_observables_inconnues = cov[cache_observable,:][:,cache_inconnues]\n",
    "covariance_inconnues_observables = cov[cache_inconnues,:][:,cache_observable]\n",
    "covariance_inconnues = cov[cache_inconnues,:][:,cache_inconnues]"
   ]
  },
  {
   "cell_type": "markdown",
   "metadata": {},
   "source": [
    "5. Calculer l'espérance conditionnelle des composantes non observées connaissant les observations et la représenter avec les données."
   ]
  },
  {
   "cell_type": "code",
   "execution_count": null,
   "metadata": {},
   "outputs": [],
   "source": [
    "m = np.array([mu for i in range(N)])\n",
    "mobs = m[observation_indexes]\n",
    "minc = m[unknown_indexes]\n",
    "\n",
    "esperance = minc - np.dot(covariance_inconnues_observables,np.dot(np.linalg.inv(covariance_observables),depth-mobs))\n",
    "\n",
    "#On cherche à remettre les points connus au milieu des points estimés\n",
    "#Pour cela on décide de mettre tous les points dans la même liste d'abord ceux connus puis ceux inconnus\n",
    "#Puis on crée une liste permutation qui permet de remettre les points dans l'ordre\n",
    "#L'intérêt est que la création de la liste est en O(N^2) mais tous les appels à la fonction seront en O(N)\n",
    "\n",
    "ordre = observation_indexes + unknown_indexes\n",
    "permutation = np.array([ordre.index(i) for i in range(N)])\n",
    "\n",
    "def insertion_points(depth,inconnus):\n",
    "    hauteurs = np.concatenate((depth,inconnus))\n",
    "    return hauteurs[permutation]\n",
    "\n",
    "cable_esp = insertion_points(depth,esperance)\n",
    "abscisses = 5*np.arange(0,N)\n",
    "\n",
    "plt.plot(abscisses,cable_esp)\n",
    "plt.show()"
   ]
  },
  {
   "cell_type": "markdown",
   "metadata": {},
   "source": [
    "6. Calculer la matrice de variance conditionnelle et tracer sa diagonale (variance conditionnelle) en fonction de la position. Commenter."
   ]
  },
  {
   "cell_type": "code",
   "execution_count": null,
   "metadata": {},
   "outputs": [],
   "source": [
    "covariance_conditionnelle = covariance_inconnues - np.dot(covariance_inconnues_observables,np.dot(np.linalg.inv(covariance_observables),covariance_observables_inconnues))\n",
    "variance_conditionnelle = np.diag(covariance_conditionnelle)\n",
    "variance_connues = [0 for i in depth]\n",
    "variance = insertion_points(variance_connues,variance_conditionnelle)\n",
    "\n",
    "plt.plot(abscisses,variance)\n",
    "plt.show()"
   ]
  },
  {
   "cell_type": "markdown",
   "metadata": {},
   "source": [
    "Plus on s'éloigne des points connus, plus la variance augmente. Cela correspond au fait qu'on ait plus d'incertitude."
   ]
  },
  {
   "cell_type": "markdown",
   "metadata": {},
   "source": [
    "7. Effectuer une simulation conditionnelle. Sur un même graphique, tracer la simulation ainsi que les données et l'espérance conditionnelle. Commenter."
   ]
  },
  {
   "cell_type": "code",
   "execution_count": null,
   "metadata": {},
   "outputs": [],
   "source": [
    "#On implémente l'algorithme décrit à la question 4\n",
    "\n",
    "#On calcule la décomposition de Choleski de la covariance pour appliquer la formule de la question 3\n",
    "R = np.linalg.cholesky(covariance_conditionnelle)\n",
    "\n",
    "def simulation():\n",
    "    sim_uniforme1 = np.array(np.random.random(len(unknown_indexes)))\n",
    "    sim_uniforme2 = np.array(np.random.random(len(unknown_indexes)))\n",
    "    sim_gaussienne_centrée_réduite = np.sqrt(-2*np.log(sim_uniforme1)) * np.cos(2*np.pi*sim_uniforme2)\n",
    "    sim_inconnues = mu + np.dot(R,sim_gaussienne_centrée_réduite)\n",
    "    return insertion_points(depth,sim_inconnues)\n",
    "\n",
    "sim = simulation()\n",
    "\n",
    "plt.plot(abscisses,sim)\n",
    "plt.plot(abscisses,cable_esp)\n",
    "plt.show()"
   ]
  },
  {
   "cell_type": "markdown",
   "metadata": {},
   "source": [
    "Les variations des simulations sont beaucoup plus violentes, cela crée de la longueur de cable en plus."
   ]
  },
  {
   "cell_type": "markdown",
   "metadata": {},
   "source": [
    "8. Ecrire une fonction qui calcule la longueur du câble en fonction du vecteur des profondeurs et du pas de discrétisation."
   ]
  },
  {
   "cell_type": "code",
   "execution_count": null,
   "metadata": {},
   "outputs": [],
   "source": [
    "def longueur(profondeurs,pas):\n",
    "    return np.sum(np.sqrt((profondeurs[1:]-profondeurs[:-1])**2+pas**2))"
   ]
  },
  {
   "cell_type": "markdown",
   "metadata": {},
   "source": [
    "9. Utiliser cette fonction pour calculer la longueur du câble à partir de 100 simulations. Comparer l'espérance conditionnelle (estimée) de la longueur avec la longueur de l'espérance conditionnelle."
   ]
  },
  {
   "cell_type": "code",
   "execution_count": null,
   "metadata": {},
   "outputs": [],
   "source": [
    "nb_simulations = 100\n",
    "\n",
    "longueurs_sim = np.array([longueur(simulation(),Delta) for i in range(nb_simulations)])\n",
    "\n",
    "print(f\"Espérance conditionnelle de la longueur : {np.mean(longueurs_sim)}\")\n",
    "print(f\"Longueur de l'espérance conditionnelle : {longueur(cable_esp,Delta)}\")"
   ]
  },
  {
   "cell_type": "markdown",
   "metadata": {},
   "source": [
    "L'espérance conditionnelle de la longueur est largement supérieure à la longueur de l'espérance conditionnelle. Cela semble normal puisque sur les simulations le cable a tendance à avoir des variations plus violentes que l'espérance conditionnelle de la longueur"
   ]
  },
  {
   "cell_type": "markdown",
   "metadata": {},
   "source": [
    "10. Représenter la suite $M_n$ des moyennes des longueurs de câbles en fonction du nombre de simulations. Commenter."
   ]
  },
  {
   "cell_type": "code",
   "execution_count": null,
   "metadata": {},
   "outputs": [],
   "source": [
    "M = np.array([np.mean([longueur(simulation(),Delta) for i in range(j)]) for j in range(1,nb_simulations)])\n",
    "\n",
    "plt.plot(np.arange(1,nb_simulations),M)\n",
    "plt.show()"
   ]
  },
  {
   "cell_type": "markdown",
   "metadata": {},
   "source": [
    "La suite semble converger autour de 536 m"
   ]
  },
  {
   "cell_type": "markdown",
   "metadata": {},
   "source": [
    "11. Représenter l'histogramme des longueurs de câbles générées."
   ]
  },
  {
   "cell_type": "code",
   "execution_count": null,
   "metadata": {},
   "outputs": [],
   "source": [
    "plt.hist(longueurs_sim)\n",
    "plt.show()"
   ]
  },
  {
   "cell_type": "markdown",
   "metadata": {},
   "source": [
    "12. Donner un intervalle de confiance à 95% de la longueur du câble par 2 méthodes différentes. Commenter."
   ]
  },
  {
   "cell_type": "code",
   "execution_count": null,
   "metadata": {},
   "outputs": [],
   "source": [
    "#Méthode 1: \n",
    "#On sort les 2,5% des plus petites et des plus grandes valeurs pour estimer que 95% des valeurs sont dans l'intervalle\n",
    "longueurs_sim.sort()\n",
    "print(f\"Intervalle de confiance 1 : [{longueurs_sim[int(0.025*nb_simulations)]},{longueurs_sim[int(0.975*nb_simulations)]}]\")\n",
    "\n",
    "#Méthode 2:\n",
    "#On calcule l'intervalle avec la formule vue en Terminale : [moyenne -/+ 1.96*ecart_type/sqrt(nombre de simulation)]\n",
    "\n",
    "moyenne = np.mean(longueurs_sim)\n",
    "ecart_type  = np.sqrt(1/nb_simulations*np.sum((longueurs_sim - moyenne)**2))\n",
    "print(f\"Intervalle de confiance 2 : [{moyenne - 1.96*ecart_type/np.sqrt(nb_simulations)},{moyenne + 1.96*ecart_type/np.sqrt(nb_simulations)}]\")"
   ]
  },
  {
   "cell_type": "markdown",
   "metadata": {},
   "source": [
    "L'intervalle de confiance \"à la main\" est beaucoup plus large que celui calculé mathématiquement."
   ]
  },
  {
   "cell_type": "markdown",
   "metadata": {},
   "source": [
    "13. Donner une estimation de la probabilité que la longueur du câble dépasse 525 m."
   ]
  },
  {
   "cell_type": "code",
   "execution_count": null,
   "metadata": {},
   "outputs": [],
   "source": [
    "print(np.sum(longueurs_sim>525)/nb_simulations)"
   ]
  },
  {
   "cell_type": "markdown",
   "metadata": {},
   "source": [
    "14. Reprendre les questions précédentes avec 1000, 10000 puis 100000 simulations. Commenter."
   ]
  },
  {
   "cell_type": "code",
   "execution_count": null,
   "metadata": {},
   "outputs": [],
   "source": [
    "nb_simulations = 1000\n",
    "\n",
    "longueurs_sim = np.array([longueur(simulation(),Delta) for i in range(nb_simulations)])\n",
    "\n",
    "print(f\"Espérance conditionnelle de la longueur : {np.mean(longueurs_sim)}\")\n",
    "print(f\"Longueur de l'espérance conditionnelle : {longueur(cable_esp,Delta)}\")\n",
    "\n",
    "M = np.array([np.mean([longueur(simulation(),Delta) for i in range(j)]) for j in range(1,nb_simulations)])\n",
    "\n",
    "#Méthode 1: \n",
    "#On sort les 2,5% des plus petites et des plus grandes valeurs pour estimer que 95% des valeurs sont dans l'intervalle\n",
    "longueurs_sim.sort()\n",
    "print(f\"Intervalle de confiance 1 : [{longueurs_sim[int(0.025*nb_simulations)]},{longueurs_sim[int(0.975*nb_simulations)]}]\")\n",
    "\n",
    "#Méthode 2:\n",
    "#On calcule l'intervalle avec la formule vue en Terminale : [moyenne -/+ 1.96*ecart_type/sqrt(nombre de simulation)]\n",
    "\n",
    "moyenne = np.mean(longueurs_sim)\n",
    "ecart_type  = np.sqrt(1/nb_simulations*np.sum((longueurs_sim - moyenne)**2))\n",
    "print(f\"Intervalle de confiance 2 : [{moyenne - 1.96*ecart_type/np.sqrt(nb_simulations)},{moyenne + 1.96*ecart_type/np.sqrt(nb_simulations)}]\")\n",
    "\n",
    "print(np.sum(longueurs_sim>525)/nb_simulations)\n",
    "\n",
    "fig,axes = plt.subplots(2)\n",
    "\n",
    "axes[0].plot(np.arange(1,nb_simulations),M)\n",
    "axes[1].hist(longueurs_sim)\n",
    "fig.show()"
   ]
  },
  {
   "cell_type": "code",
   "execution_count": null,
   "metadata": {},
   "outputs": [],
   "source": [
    "nb_simulations = 10000\n",
    "\n",
    "longueurs_sim = np.array([longueur(simulation(),Delta) for i in range(nb_simulations)])\n",
    "\n",
    "print(f\"Espérance conditionnelle de la longueur : {np.mean(longueurs_sim)}\")\n",
    "print(f\"Longueur de l'espérance conditionnelle : {longueur(cable_esp,Delta)}\")\n",
    "\n",
    "M = np.array([np.mean([longueur(simulation(),Delta) for i in range(j)]) for j in range(1,nb_simulations)])\n",
    "\n",
    "#Méthode 1: \n",
    "#On sort les 2,5% des plus petites et des plus grandes valeurs pour estimer que 95% des valeurs sont dans l'intervalle\n",
    "longueurs_sim.sort()\n",
    "print(f\"Intervalle de confiance 1 : [{longueurs_sim[int(0.025*nb_simulations)]},{longueurs_sim[int(0.975*nb_simulations)]}]\")\n",
    "\n",
    "#Méthode 2:\n",
    "#On calcule l'intervalle avec la formule vue en Terminale : [moyenne -/+ 1.96*ecart_type/sqrt(nombre de simulation)]\n",
    "\n",
    "moyenne = np.mean(longueurs_sim)\n",
    "ecart_type  = np.sqrt(1/nb_simulations*np.sum((longueurs_sim - moyenne)**2))\n",
    "print(f\"Intervalle de confiance 2 : [{moyenne - 1.96*ecart_type/np.sqrt(nb_simulations)},{moyenne + 1.96*ecart_type/np.sqrt(nb_simulations)}]\")\n",
    "\n",
    "print(np.sum(longueurs_sim>525)/nb_simulations)\n",
    "\n",
    "fig,axes = plt.subplots(2)\n",
    "\n",
    "axes[0].plot(np.arange(1,nb_simulations),M)\n",
    "axes[1].hist(longueurs_sim)\n",
    "fig.show()"
   ]
  },
  {
   "cell_type": "code",
   "execution_count": null,
   "metadata": {},
   "outputs": [],
   "source": [
    "nb_simulations = 100000\n",
    "\n",
    "longueurs_sim = np.array([longueur(simulation(),Delta) for i in range(nb_simulations)])\n",
    "\n",
    "print(f\"Espérance conditionnelle de la longueur : {np.mean(longueurs_sim)}\")\n",
    "print(f\"Longueur de l'espérance conditionnelle : {longueur(cable_esp,Delta)}\")\n",
    "\n",
    "M = np.array([np.mean([longueur(simulation(),Delta) for i in range(j)]) for j in range(1,nb_simulations)])\n",
    "\n",
    "#Méthode 1: \n",
    "#On sort les 2,5% des plus petites et des plus grandes valeurs pour estimer que 95% des valeurs sont dans l'intervalle\n",
    "longueurs_sim.sort()\n",
    "print(f\"Intervalle de confiance 1 : [{longueurs_sim[int(0.025*nb_simulations)]},{longueurs_sim[int(0.975*nb_simulations)]}]\")\n",
    "\n",
    "#Méthode 2:\n",
    "#On calcule l'intervalle avec la formule vue en Terminale : [moyenne -/+ 1.96*ecart_type/sqrt(nombre de simulation)]\n",
    "\n",
    "moyenne = np.mean(longueurs_sim)\n",
    "ecart_type  = np.sqrt(1/nb_simulations*np.sum((longueurs_sim - moyenne)**2))\n",
    "print(f\"Intervalle de confiance 2 : [{moyenne - 1.96*ecart_type/np.sqrt(nb_simulations)},{moyenne + 1.96*ecart_type/np.sqrt(nb_simulations)}]\")\n",
    "\n",
    "print(np.sum(longueurs_sim>525)/nb_simulations)\n",
    "\n",
    "fig,axes = plt.subplots(2)\n",
    "\n",
    "axes[0].plot(np.arange(1,nb_simulations),M)\n",
    "axes[1].hist(longueurs_sim)\n",
    "fig.show()"
   ]
  },
  {
   "cell_type": "markdown",
   "metadata": {},
   "source": [
    "L'intervalle de confiance s'affine autour de l'espérance lorsqu'on augmente le nombre de simulations"
   ]
  }
 ],
 "metadata": {
  "@webio": {
   "lastCommId": "5ceb69a5bbd14071b254c2439a58ac4b",
   "lastKernelId": "0e923419-c540-42c1-ab5f-d0e05ff4521c"
  },
  "kernelspec": {
   "display_name": "Python 3",
   "language": "python",
   "name": "python3"
  },
  "language_info": {
   "codemirror_mode": {
    "name": "ipython",
    "version": 3
   },
   "file_extension": ".py",
   "mimetype": "text/x-python",
   "name": "python",
   "nbconvert_exporter": "python",
   "pygments_lexer": "ipython3",
   "version": "3.7.1"
  }
 },
 "nbformat": 4,
 "nbformat_minor": 2
}
